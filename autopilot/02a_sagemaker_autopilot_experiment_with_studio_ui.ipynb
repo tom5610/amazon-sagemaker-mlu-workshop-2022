{
 "cells": [
  {
   "cell_type": "markdown",
   "metadata": {},
   "source": [
    "# Direct Marketing with Amazon SageMaker Autopilot\n",
    "\n",
    "This notebook works well with the `Python 3 (Data Science)` kernel on SageMaker Studio.\n",
    "\n",
    "---\n",
    "\n",
    "---"
   ]
  },
  {
   "cell_type": "markdown",
   "metadata": {
    "heading_collapsed": "true",
    "tags": []
   },
   "source": [
    "## Contents\n",
    "\n",
    "1. [Introduction](#Introduction)\n",
    "1. [Setup](#Setup)\n",
    "1. [Downloading the dataset](#Downloading)\n",
    "1. [Upload the dataset to Amazon S3](#Uploading)\n",
    "1. [Setting up the SageMaker Autopilot Job](#Settingup)\n",
    "1. [Launching the SageMaker Autopilot Job](#Launching)\n",
    "1. [Tracking Sagemaker Autopilot Job Progress](#Tracking)\n",
    "1. [Results](#Results)\n",
    "1. [Cleanup](#Cleanup)"
   ]
  },
  {
   "cell_type": "markdown",
   "metadata": {
    "heading_collapsed": "true",
    "tags": []
   },
   "source": [
    "## Introduction\n",
    "\n",
    "[Amazon SageMaker Autopilot](https://docs.aws.amazon.com/sagemaker/latest/dg/autopilot-automate-model-development-create-experiment.html) provides UI interface in SageMaker Studio to make your Autopilot experiment easier. \n",
    "\n",
    "In the notebook, we will explore the process on how to create a SageMaker Autopilot job via Studio UI. \n",
    "\n",
    "> **_NOTE_** Please do finish [01_sagemaker_autopilot_data_preparation.ipynb](./01_sagemaker_autopilot_data_preparation.ipynb) notebook execution before proceeding below.\n",
    "\n",
    "### Why using SageMaker Studio UI?\n",
    "\n",
    "Using SageMaker Studio UI to create Autopilot experiment eases the pains for non-developers. With clicking & filling necessary detail on the training data & Autopilot job setting, you can start tackling ML problem without writing code. "
   ]
  },
  {
   "cell_type": "markdown",
   "metadata": {},
   "source": [
    "## Setup\n",
    "\n",
    "To restore shared variables created by [01_sagemaker_autopilot_data_preparation.ipynb](./01_sagemaker_autopilot_data_preparation.ipynb) notebook and list the S3 resources URIs for filling Autopilot experiment detail."
   ]
  },
  {
   "cell_type": "code",
   "execution_count": 23,
   "metadata": {},
   "outputs": [],
   "source": [
    "%store -r train_data_s3_path\n",
    "%store -r bucket\n",
    "%store -r prefix\n",
    "\n",
    "try:\n",
    "  train_data_s3_path\n",
    "except NameError:\n",
    "    raise ValueError(\"Training dataset S3 URI is missing, please execute the data preparation notebook!\")"
   ]
  },
  {
   "cell_type": "markdown",
   "metadata": {},
   "source": [
    "Please note down below variables:\n",
    "* `train_data_s3_path` for training data input.\n",
    "* `using_studio_ui_output_path` for Autopilot experiment output."
   ]
  },
  {
   "cell_type": "code",
   "execution_count": 24,
   "metadata": {},
   "outputs": [
    {
     "data": {
      "text/plain": [
       "'s3://sagemaker-ap-southeast-2-452533547478/mlu-workshop/autopilot-dm/train/train_data.csv'"
      ]
     },
     "execution_count": 24,
     "metadata": {},
     "output_type": "execute_result"
    }
   ],
   "source": [
    "train_data_s3_path"
   ]
  },
  {
   "cell_type": "code",
   "execution_count": 26,
   "metadata": {},
   "outputs": [
    {
     "data": {
      "text/plain": [
       "'s3://sagemaker-ap-southeast-2-452533547478/mlu-workshop/autopilot-dm/using-studio-ui-output'"
      ]
     },
     "execution_count": 26,
     "metadata": {},
     "output_type": "execute_result"
    }
   ],
   "source": [
    "using_studio_ui_output_path = f\"s3://{bucket}/{prefix}/using-studio-ui-output\"\n",
    "using_studio_ui_output_path"
   ]
  },
  {
   "cell_type": "markdown",
   "metadata": {},
   "source": [
    "## AutoPilot Experiment using SageMaker Studio UI\n",
    "\n",
    "SageMaker Studio UI provides an easy way to trigger AutoPilot job so that you can start your model experiment quickly. In this section, we will work through the steps to create AutoPilot job and do some predictions on test data."
   ]
  },
  {
   "cell_type": "markdown",
   "metadata": {},
   "source": [
    "### Open Amazon SageMaker Studio\n",
    "\n",
    "Please follow below steps:\n",
    "* Logon to AWS Management Console\n",
    "* Select 'Amazon SageMaker' service\n",
    "* Select 'Studio' under left-hand side menu, which is under 'SageMaker Domain'\n",
    "* Click 'Launch App' dropdown box under a SageMaker User\n",
    "* Click 'Studio' item under the dropdown box."
   ]
  },
  {
   "cell_type": "markdown",
   "metadata": {},
   "source": [
    "### Create Autopilot Experiment\n",
    "\n",
    "Under 'Launcher' tab, choose the **New autopilot experiment** option from the **Build model automatically** box. (If you don't see 'Launcher' tab, you can open one under Menu 'File' -> 'New Launcher'\n",
    " \n",
    "![New autoPilot experiment](./image/ap_new_autopilot_experiment.png)"
   ]
  },
  {
   "cell_type": "markdown",
   "metadata": {},
   "source": [
    "### Enter information for the AutoPilot Job\n",
    "\n",
    "* **Experiment name** - an unique name to your account in the current AWS Region and container a maximum of 63 alphanumeric characters. Can include hyphens(-). \n",
    " \n",
    " ![experiment name](./image/ap_experiment_name.png)\n",
    " \n",
    "  * Type in 'Experiment name', e.g. 'direct-marketing-autopilot-job'"
   ]
  },
  {
   "cell_type": "markdown",
   "metadata": {},
   "source": [
    " * **Connect your data** - Provide the training data S3 URI.\n",
    " \n",
    " ![experiment name](./image/ap_enter_s3bucket_location.png)\n",
    " \n",
    "  * Select 'Enter S3 bucket location'\n",
    "  * Copy & paste the value of `train_data_s3_path` to 'S3 bucket address', and the value will be similar to 's3://sagemaker-ap-southeast-2-123456789012/mlu-workshop/autopilot-dm/train/train_data.csv' "
   ]
  },
  {
   "cell_type": "markdown",
   "metadata": {},
   "source": [
    " * **Is your S3 input a manifest file?** - choose 'off' for the lab given we don't have a manifest file include meta data for our training data."
   ]
  },
  {
   "cell_type": "markdown",
   "metadata": {},
   "source": [
    "  * **target** - the target value or label in the training dataset.\n",
    "  \n",
    "  ![manifest file](./image/ap_target.png)\n",
    "  \n",
    "   * Click the dropdown box and select field 'y', which is the target value."
   ]
  },
  {
   "cell_type": "markdown",
   "metadata": {},
   "source": [
    "  * **Output data location** - the name of the S3 bucket and directory where you want to store the output data.\n",
    " \n",
    "  ![manifest file](./image/ap_output_data_location.png)\n",
    "  \n",
    "  > **_NOTE_**: You may select a S3 bucket (which is under the AWS Region) and related directory, or provide the S3 folder URI. In our exercise, please use a directory under SageMaker Default S3 bucket. "
   ]
  },
  {
   "cell_type": "markdown",
   "metadata": {},
   "source": [
    "  * **Select the machine learning problem type** - Autopilot can automatically select the machine learning problem type and you can specify manually. In our exercise, please choose `Binary classification` in dropdox box.\n",
    "  \n",
    "  ![manifest file](./image/ap_ml_problem_type.png)\n",
    "  \n",
    "   * Please select `F1` as Object metric."
   ]
  },
  {
   "cell_type": "markdown",
   "metadata": {},
   "source": [
    "  * **Do you want to run complete experiment** - You can specify how to run the experiment. \n",
    "  \n",
    "  ![manifest file](./image/ap_complete_experiment.png)\n",
    "  \n",
    "   * If you choose **Yes**, Autopilot runs experiments with model training, generates related trials and you will be able to deploy the best model to SageMaker Endpoint service for realtime inference. \n",
    "   * If you choose **No**, instead of running the entire experiment, AutoPilot stops running after generating the notebooks for dataset analysis & candidates definitions. "
   ]
  },
  {
   "cell_type": "markdown",
   "metadata": {},
   "source": [
    "  * **Auto deploy** - Autopilot can automatically deploy the best model from an Autopilot experiment to an endpoint (for realtime inference), accept the default Auto deploy value **On** when creating the experiment. Also, please provide the endpoint name. In our exercise, please input `dm-autopilot-experiment`.\n",
    "  \n",
    "  ![manifest file](./image/ap_auto_deploy.png)"
   ]
  },
  {
   "cell_type": "markdown",
   "metadata": {},
   "source": [
    "  * **ADVANCED SETTINGS** - The settings allows you to specify how the experiment should be run. Especially, we want to set the max candidate to be experimented as `10` and accept default values for others.\n",
    "  \n",
    "  ![manifest file](./image/ap_advanced_settings.png)"
   ]
  },
  {
   "cell_type": "markdown",
   "metadata": {},
   "source": [
    "  * **Auto deploy the best model confirmation?** - If you choose **On** under 'Auto Deploy', Autopilot will prompt a confirmation dialog to remind you that it will generate cost while deploying the model to SageMaker endpoint. In our exercise, please click `Confirm` button.\n",
    "  \n",
    "  ![manifest file](./image/ap_prompt_best_model_deployment.png)"
   ]
  },
  {
   "cell_type": "markdown",
   "metadata": {},
   "source": [
    "4. **AutoPilot experiment in progress** - Once the Autopilot experiment is kicked off, you will be able to view the progress of the experiment. It may takes 20-40mins until the job is finished, which depends on the amount the training dataset & the number of candidates you want to experiment. (Autopilot supports up to 250 candidates)\n",
    "  \n",
    "  ![manifest file](./image/ap_auto_pilot_job_in_progress.png)"
   ]
  },
  {
   "cell_type": "markdown",
   "metadata": {},
   "source": [
    "### View Autopilot Experiment Job \n",
    "\n",
    "Once the experiment is completed, we will be able to view the related trials and access generate notebooks & deployed endpoint."
   ]
  },
  {
   "cell_type": "markdown",
   "metadata": {},
   "source": [
    "* **Autopilot Job Detail** - To access the Autopilot job detail, you may wait under the job finished from the previous step. Or,\n",
    " 1. click ![icon](./image/sm_studio_sagemaker_resources.png) `SageMaker Resources` icon to open resources pane. \n",
    " 2. select `Experiments and trials` to list SageMaker experiments. \n",
    " 3. right click the experiment object in the list and select `Describe AutoML Job`.\n",
    " \n",
    "\n",
    "  ![To View Autopilot Job Detail](./image/ap_direct_markting_autopilot_job_detail.png)"
   ]
  },
  {
   "cell_type": "markdown",
   "metadata": {},
   "source": [
    "#### To learn more about the generated notebooks\n",
    "\n",
    "* Click button `Open candidate generation notebook` to understand more detail on how the model candidates are being explored.\n",
    "* Click button `Open data exploration notebook` to understand more on how the training data statistics look liks."
   ]
  },
  {
   "cell_type": "markdown",
   "metadata": {},
   "source": [
    "#### To view `Best Model`\n",
    "\n",
    "`Best Model` is the one with the highest performance on the selected `Objective metric`. In our lab, it's the `F1` score.\n",
    "\n",
    "Please go ahead and right click your mouse on first row with `Best Model` and select `Describe in model details` menu. \n",
    "\n",
    "  ![To View Best Model](./image/ap_describe_best_model.png)\n",
    "  \n",
    "With that, the model details page will be shown, especially, for the `Best Model`, Autopilot provides reports for `Explainability` and `Performance` tabs. Please select them to understand more about model explainability and model performance.\n",
    "\n",
    "  ![To View Model Details](./image/ap_model_detail_explainability.png)"
   ]
  },
  {
   "cell_type": "markdown",
   "metadata": {},
   "source": [
    "#### To experiment the deployed model\n",
    "\n",
    "Click `dm-autopilot-experiment` (or whatever name you use for the deployment endpoint), you will be able to view the endpoint details. Especially, you will be provide a payload content to get prediction result from the endpoint.\n",
    "\n",
    "  ![To Test Endpoint](./image/ap_test_endpoint.png)"
   ]
  },
  {
   "cell_type": "code",
   "execution_count": null,
   "metadata": {},
   "outputs": [],
   "source": []
  }
 ],
 "metadata": {
  "instance_type": "ml.t3.medium",
  "kernelspec": {
   "display_name": "Python 3 (Data Science)",
   "language": "python",
   "name": "python3__SAGEMAKER_INTERNAL__arn:aws:sagemaker:ap-southeast-2:452832661640:image/datascience-1.0"
  },
  "language_info": {
   "codemirror_mode": {
    "name": "ipython",
    "version": 3
   },
   "file_extension": ".py",
   "mimetype": "text/x-python",
   "name": "python",
   "nbconvert_exporter": "python",
   "pygments_lexer": "ipython3",
   "version": "3.7.10"
  }
 },
 "nbformat": 4,
 "nbformat_minor": 4
}
