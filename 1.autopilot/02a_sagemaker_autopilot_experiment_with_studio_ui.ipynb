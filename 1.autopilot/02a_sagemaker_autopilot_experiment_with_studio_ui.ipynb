{
 "cells": [
  {
   "cell_type": "markdown",
   "metadata": {},
   "source": [
    "# Autopilot Experiment with SageMaker Studio UI\n",
    "\n",
    "This notebook works well with the `Python 3 (Data Science)` kernel on SageMaker Studio.\n",
    "\n",
    "---\n",
    "\n",
    "---"
   ]
  },
  {
   "cell_type": "markdown",
   "metadata": {
    "heading_collapsed": "true",
    "tags": []
   },
   "source": [
    "## Contents\n",
    "\n",
    "1. [Introduction](#Introduction)\n",
    "1. [Setup](#Setup)\n",
    "1. [AutoPilot Experiment using SageMaker Studio UI](#AutoPilot-Experiment-using-SageMaker-Studio-UI)\n",
    " * [Open Amazon SageMaker Studio](#Open-Amazon-SageMaker-Studio)\n",
    " * [Create Autopilot Experiment](#Create-Autopilot-Experiment-Job)\n",
    " * [Enter information for the AutoPilot Job](#Enter-information-for-the-AutoPilot-Job)\n",
    " * [View Autopilot Experiment Job ](#View-Autopilot-Experiment-Job)\n",
    " * [Test Deployed Model](#Test-Deployed-Model)\n",
    "1. [Clean Up](#Cleanup)"
   ]
  },
  {
   "cell_type": "markdown",
   "metadata": {},
   "source": [
    "## Setup\n",
    "\n",
    "Retrieve shared variables created by [01_sagemaker_autopilot_setup.ipynb](./01_sagemaker_autopilot_setup.ipynb) notebook and list out the S3 URIs to prepare Autopilot experiment."
   ]
  },
  {
   "cell_type": "code",
   "execution_count": 2,
   "metadata": {},
   "outputs": [],
   "source": [
    "#cell - 01\n",
    "%store -r train_data_s3_path\n",
    "%store -r test_file_with_label\n",
    "%store -r lab_ap_prefix\n",
    "%store -r bucket\n",
    "\n",
    "try:\n",
    "  train_data_s3_path\n",
    "except NameError:\n",
    "    raise ValueError(\"Training dataset S3 URI is missing, please execute the data preparation notebook!\")"
   ]
  },
  {
   "cell_type": "markdown",
   "metadata": {},
   "source": [
    "> **__NOTE__** Please note down output of the variables below (cells 02 and 03).\n",
    "* `train_data_s3_path` for training data input.\n",
    "* `using_studio_ui_output_path` for Autopilot experiment output."
   ]
  },
  {
   "cell_type": "code",
   "execution_count": 5,
   "metadata": {},
   "outputs": [
    {
     "data": {
      "text/plain": [
       "'s3://sagemaker-ap-southeast-2-783193689466/mlu-workshop/direct-marketing/autopilot/train/train_data.csv'"
      ]
     },
     "execution_count": 5,
     "metadata": {},
     "output_type": "execute_result"
    }
   ],
   "source": [
    "#cell - 02\n",
    "train_data_s3_path"
   ]
  },
  {
   "cell_type": "code",
   "execution_count": 4,
   "metadata": {},
   "outputs": [
    {
     "data": {
      "text/plain": [
       "'s3://sagemaker-ap-southeast-2-783193689466/mlu-workshop/direct-marketing/autopilot/using-studio-ui-output'"
      ]
     },
     "execution_count": 4,
     "metadata": {},
     "output_type": "execute_result"
    }
   ],
   "source": [
    "#cell - 03\n",
    "using_studio_ui_output_path = f\"s3://{bucket}/{lab_ap_prefix}/using-studio-ui-output\"\n",
    "using_studio_ui_output_path"
   ]
  },
  {
   "cell_type": "markdown",
   "metadata": {},
   "source": [
    "## Create Autopilot Experiment with SageMaker Studio UI\n",
    "\n",
    "> Now, follow the instructions outlined in Step 4 in <a href=\"https://github.com/tom5610/mlu-workshop/tree/main/1.autopilot#Using-SageMaker-Studio-UI\" target=\"_blank\">UI tutorial</a> to create Autopilot Experiment. \n",
    "\n",
    "> Once model has been deployed, proceed with the cells below to test the deployed model."
   ]
  },
  {
   "cell_type": "markdown",
   "metadata": {},
   "source": [
    "## Test Deployed Model\n",
    "\n",
    "> Please ensure that you've deployed the Autopilot trained model while creating the experiment.\n",
    "\n",
    "View the split test dataset with label."
   ]
  },
  {
   "cell_type": "code",
   "execution_count": null,
   "metadata": {},
   "outputs": [],
   "source": [
    "#cell - 04\n",
    "import pandas as pd\n",
    "\n",
    "column_label = 'y'\n",
    "\n",
    "test_data = pd.read_csv(test_file_with_label)\n",
    "columns = test_data.columns.tolist()\n",
    "columns.remove(column_label)\n",
    "columns.insert(0, column_label)\n",
    "\n",
    "# list the label as first column so that you can verify the prediction result easier\n",
    "test_data[columns]"
   ]
  },
  {
   "cell_type": "code",
   "execution_count": null,
   "metadata": {},
   "outputs": [],
   "source": [
    "#cell - 05\n",
    "X_test_numpy = test_data.drop([\"y\"], axis=1).values"
   ]
  },
  {
   "cell_type": "markdown",
   "metadata": {},
   "source": [
    "set the endpoint name, if you are using something different from `dm-autopilot-experiment`, please update the value below:"
   ]
  },
  {
   "cell_type": "code",
   "execution_count": null,
   "metadata": {},
   "outputs": [],
   "source": [
    "#cell - 06\n",
    "endpoint_name = 'dm-autopilot-experiment02'"
   ]
  },
  {
   "cell_type": "code",
   "execution_count": null,
   "metadata": {},
   "outputs": [],
   "source": [
    "#cell - 07\n",
    "import boto3\n",
    "\n",
    "runtime = boto3.client('sagemaker-runtime')\n",
    "\n",
    "\n",
    "def predict(payload):\n",
    "    response = runtime.invoke_endpoint(EndpointName=endpoint_name,\n",
    "                                           ContentType='text/csv',\n",
    "                                           Body=payload)\n",
    "    print(response)\n",
    "    result = response['Body'].read().decode('utf-8').strip()\n",
    "    pred, pred_probability = result.split(',')\n",
    "    print(f\"Prediction result: {pred} with probability: {pred_probability}\")\n",
    "    return pred, pred_probability"
   ]
  },
  {
   "cell_type": "code",
   "execution_count": null,
   "metadata": {},
   "outputs": [],
   "source": [
    "#cell - 08\n",
    "# update the index to test on different row in the test dataset.\n",
    "index = 15\n",
    "\n",
    "label = test_data.iloc[index]['y']\n",
    "print(f\"Row index {index} with Label: {label}\")\n",
    "\n",
    "payload = ','.join(X_test_numpy[index].astype(str).tolist())\n",
    "predict(payload)"
   ]
  },
  {
   "cell_type": "markdown",
   "metadata": {},
   "source": [
    "### Cleanup\n",
    "\n",
    "It's generally a good practice to deactivate all endpoints which are not in use.\n",
    "\n",
    "Please uncomment the following lines and run the cell in order to deactivate the endpoint that were created before."
   ]
  },
  {
   "cell_type": "code",
   "execution_count": null,
   "metadata": {},
   "outputs": [],
   "source": [
    "# sm_client = boto3.client('sagemaker')\n",
    "# sm_client.delete_endpoint(EndpointName=endpoint_name)"
   ]
  },
  {
   "cell_type": "code",
   "execution_count": null,
   "metadata": {},
   "outputs": [],
   "source": []
  }
 ],
 "metadata": {
  "instance_type": "ml.t3.medium",
  "kernelspec": {
   "display_name": "Python 3 (Data Science)",
   "language": "python",
   "name": "python3__SAGEMAKER_INTERNAL__arn:aws:sagemaker:ap-southeast-2:452832661640:image/datascience-1.0"
  },
  "language_info": {
   "codemirror_mode": {
    "name": "ipython",
    "version": 3
   },
   "file_extension": ".py",
   "mimetype": "text/x-python",
   "name": "python",
   "nbconvert_exporter": "python",
   "pygments_lexer": "ipython3",
   "version": "3.7.10"
  }
 },
 "nbformat": 4,
 "nbformat_minor": 4
}
