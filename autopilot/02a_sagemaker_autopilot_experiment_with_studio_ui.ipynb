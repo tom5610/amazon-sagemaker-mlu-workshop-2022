{
 "cells": [
  {
   "cell_type": "markdown",
   "metadata": {},
   "source": [
    "# Direct Marketing with Amazon SageMaker Autopilot\n",
    "\n",
    "This notebook works well with the `Python 3 (Data Science)` kernel on SageMaker Studio.\n",
    "\n",
    "---\n",
    "\n",
    "---"
   ]
  },
  {
   "cell_type": "markdown",
   "metadata": {
    "heading_collapsed": "true",
    "tags": []
   },
   "source": [
    "## Contents\n",
    "\n",
    "1. [Introduction](#Introduction)\n",
    "1. [Setup](#Setup)\n",
    "1. [AutoPilot Experiment using SageMaker Studio UI](#AutoPilot-Experiment-using-SageMaker-Studio-UI)\n",
    " * [Open Amazon SageMaker Studio](#Open-Amazon-SageMaker-Studio)\n",
    " * [Create Autopilot Experiment](#Create-Autopilot-Experiment-Job)\n",
    " * [Enter information for the AutoPilot Job](#Enter-information-for-the-AutoPilot-Job)\n",
    " * [View Autopilot Experiment Job ](#View-Autopilot-Experiment-Job)\n",
    " * [Test Deployed Model](#Test-Deployed-Model)\n",
    "1. [Clean Up](#Cleanup)"
   ]
  },
  {
   "cell_type": "markdown",
   "metadata": {
    "heading_collapsed": "true",
    "tags": []
   },
   "source": [
    "## Introduction\n",
    "\n",
    "SageMaker Studio provide an UI interface to make [Amazon SageMaker Autopilot](https://docs.aws.amazon.com/sagemaker/latest/dg/autopilot-automate-model-development-create-experiment.html) experiment easy. \n",
    "\n",
    "In the notebook, we will explore the process on how to create a SageMaker Autopilot experiment via Studio UI. \n",
    "\n",
    "> **_NOTE_** Please do finish [01_sagemaker_autopilot_data_preparation.ipynb](./01_sagemaker_autopilot_data_preparation.ipynb) notebook first so that we have the training dataset ready on the S3 bucket.\n",
    "\n",
    "### Why using SageMaker Studio UI?\n",
    "\n",
    "Studio UI is the fastest and easiest way to kick off [Amazon SageMaker Autopilot](https://docs.aws.amazon.com/sagemaker/latest/dg/autopilot-automate-model-development-create-experiment.html) experiment. With a couple of clicks and filling in the experiment details, such as training data S3 URI, output location S3 URI and experiment settings, etc. you can sit down and relax and wait for the AutoML service to figure out the best model candidate for your ML problems on tabular dataset."
   ]
  },
  {
   "cell_type": "markdown",
   "metadata": {},
   "source": [
    "## Setup\n",
    "\n",
    "Retrieve shared variables created by [01_sagemaker_autopilot_data_preparation.ipynb](./01_sagemaker_autopilot_data_preparation.ipynb) notebook and list out the S3 URIs to prepare Autopilot experiment."
   ]
  },
  {
   "cell_type": "code",
   "execution_count": null,
   "metadata": {},
   "outputs": [],
   "source": [
    "%store -r train_data_s3_path\n",
    "%store -r test_file_label\n",
    "%store -r bucket\n",
    "%store -r prefix\n",
    "\n",
    "try:\n",
    "  train_data_s3_path\n",
    "except NameError:\n",
    "    raise ValueError(\"Training dataset S3 URI is missing, please execute the data preparation notebook!\")"
   ]
  },
  {
   "cell_type": "markdown",
   "metadata": {},
   "source": [
    "> **__NOTE__** Please note down below variables:\n",
    "* `train_data_s3_path` for training data input.\n",
    "* `using_studio_ui_output_path` for Autopilot experiment output."
   ]
  },
  {
   "cell_type": "code",
   "execution_count": null,
   "metadata": {},
   "outputs": [],
   "source": [
    "train_data_s3_path"
   ]
  },
  {
   "cell_type": "code",
   "execution_count": null,
   "metadata": {},
   "outputs": [],
   "source": [
    "using_studio_ui_output_path = f\"s3://{bucket}/{prefix}/using-studio-ui-output\"\n",
    "using_studio_ui_output_path"
   ]
  },
  {
   "cell_type": "markdown",
   "metadata": {},
   "source": [
    "## AutoPilot Experiment using SageMaker Studio UI\n",
    "\n",
    "In this section, we will work through the steps to create AutoPilot experiment job via SageMaker Studio UI, and invoke the deployed model using boto3 API calls."
   ]
  },
  {
   "cell_type": "markdown",
   "metadata": {},
   "source": [
    "### Open Amazon SageMaker Studio\n",
    "\n",
    "Please follow below steps:\n",
    "* Logon to AWS Management Console\n",
    "* Select 'Amazon SageMaker' service\n",
    "* Select 'Studio' under left-hand side menu, which is under 'SageMaker Domain'\n",
    "* Click 'Launch App' dropdown box under a SageMaker User\n",
    "* Click 'Studio' item under the dropdown box."
   ]
  },
  {
   "cell_type": "markdown",
   "metadata": {},
   "source": [
    "### Create Autopilot Experiment Job\n",
    "\n",
    "Under 'Launcher' tab, choose the **New autopilot experiment** option from the **Build model automatically** box. If you don't have a 'Launcher' tab, you can open one under Menu 'File' -> 'New Launcher'.\n",
    " \n",
    "![New autoPilot experiment](./image/ap_new_autopilot_experiment.png)"
   ]
  },
  {
   "cell_type": "markdown",
   "metadata": {},
   "source": [
    "### Enter information for the AutoPilot Job\n",
    "\n",
    "* **Experiment name** - an unique name to your account in the current AWS Region and contains a maximum of 63 alphanumeric characters. Can include hyphens(-). \n",
    " \n",
    " ![experiment name](./image/ap_experiment_name.png)\n",
    " \n",
    "  * Type in 'Experiment name', e.g. 'direct-marketing-autopilot-job'"
   ]
  },
  {
   "cell_type": "markdown",
   "metadata": {},
   "source": [
    " * **Connect your data** - Provide the training data S3 URI.\n",
    " \n",
    " ![experiment name](./image/ap_enter_s3bucket_location.png)\n",
    " \n",
    "  * Select 'Enter S3 bucket location' option\n",
    "  * Copy & paste the value of `train_data_s3_path` to 'S3 bucket address'. e.g. the value is similar to 's3://sagemaker-ap-southeast-2-123456789012/mlu-workshop/autopilot-dm/train/train_data.csv' "
   ]
  },
  {
   "cell_type": "markdown",
   "metadata": {},
   "source": [
    " * **Is your S3 input a manifest file?** - choose 'off' for the lab given we don't need a manifest file include meta data for our training data."
   ]
  },
  {
   "cell_type": "markdown",
   "metadata": {},
   "source": [
    "  * **target** - the target value or label in the training dataset.\n",
    "  \n",
    "  ![manifest file](./image/ap_target.png)\n",
    "  \n",
    "   * Click the dropdown box and select field 'y', which is the target value."
   ]
  },
  {
   "cell_type": "markdown",
   "metadata": {},
   "source": [
    "  * **Output data location** - the name of the S3 bucket and directory where you want to store the output data.\n",
    " \n",
    "  ![manifest file](./image/ap_output_data_location.png)\n",
    "  \n",
    "  > **_NOTE_**: You may select a S3 bucket (which is under the AWS Region) and related directory, or provide the S3 folder URI. In our exercise, please use a directory under SageMaker Default S3 bucket. "
   ]
  },
  {
   "cell_type": "markdown",
   "metadata": {},
   "source": [
    "  * **Select the machine learning problem type** - Autopilot can automatically select the machine learning problem type and you can specify manually. In our exercise, please choose `Binary classification` in dropdox box.\n",
    "  \n",
    "  ![manifest file](./image/ap_ml_problem_type.png)\n",
    "  \n",
    "   * Please select [`F1`](https://en.wikipedia.org/wiki/F-score) as Object metric. In general, [`F1`](https://en.wikipedia.org/wiki/F-score) is the harmonic mean of the precision and recall in binary classification problem. "
   ]
  },
  {
   "cell_type": "markdown",
   "metadata": {},
   "source": [
    "  * **Do you want to run complete experiment** - You can specify how to run the experiment. \n",
    "  \n",
    "  ![manifest file](./image/ap_complete_experiment.png)\n",
    "  \n",
    "   * If you choose **Yes**, Autopilot runs experiments with model training, generates related trials and you will be able to deploy the best model to SageMaker Endpoint service for realtime inference. \n",
    "   * If you choose **No**, instead of running the entire experiment, AutoPilot stops running after generating the notebooks for dataset analysis & candidates definitions. "
   ]
  },
  {
   "cell_type": "markdown",
   "metadata": {},
   "source": [
    "  * **Auto deploy** - Autopilot can automatically deploy the best model from an Autopilot experiment to an endpoint (for realtime inference), accept the default Auto deploy value **On** when creating the experiment. Also, please provide the endpoint name. \n",
    "  \n",
    "  ![manifest file](./image/ap_auto_deploy.png)\n",
    "  \n",
    "   * In our exercise, please input `dm-autopilot-experiment` and the endpoint name will be used later to get predictions from deployed model."
   ]
  },
  {
   "cell_type": "markdown",
   "metadata": {},
   "source": [
    "  * **ADVANCED SETTINGS** - The settings allows you to specify how the experiment should be run. Especially, we want to set the max candidate to be experimented as `10` and accept default values for others.\n",
    "  \n",
    "  ![manifest file](./image/ap_advanced_settings.png)"
   ]
  },
  {
   "cell_type": "markdown",
   "metadata": {},
   "source": [
    "  * **Auto deploy the best model confirmation?** - If you choose **On** under 'Auto Deploy', Autopilot will prompt a confirmation dialog to remind you that it will generate cost while deploying the model to SageMaker endpoint. In our exercise, please click `Confirm` button.\n",
    "  \n",
    "  ![manifest file](./image/ap_prompt_best_model_deployment.png)"
   ]
  },
  {
   "cell_type": "markdown",
   "metadata": {},
   "source": [
    "4. **AutoPilot experiment in progress** - Once the Autopilot experiment is kicked off, you will be able to view the progress of the experiment. It may takes 20-40mins until the job is finished, which depends on the amount the training dataset & the number of candidates you want to experiment. (Autopilot supports up to 250 candidates)\n",
    "  \n",
    "  ![manifest file](./image/ap_auto_pilot_job_in_progress.png)"
   ]
  },
  {
   "cell_type": "markdown",
   "metadata": {},
   "source": [
    "### View Autopilot Experiment Job \n",
    "\n",
    "Once the experiment is completed, we will be able to view the related trials and access generate notebooks & deployed endpoint."
   ]
  },
  {
   "cell_type": "markdown",
   "metadata": {},
   "source": [
    "* **Autopilot Job Detail** - To access the Autopilot job detail, you may wait under the job finished from the previous step. Or,\n",
    " 1. click ![icon](./image/sm_studio_sagemaker_resources.png) `SageMaker Resources` icon to open resources pane. \n",
    " 2. select `Experiments and trials` to list SageMaker experiments. \n",
    " 3. right click the experiment object in the list and select `Describe AutoML Job`.\n",
    " \n",
    "\n",
    "  ![To View Autopilot Job Detail](./image/ap_direct_markting_autopilot_job_detail.png)"
   ]
  },
  {
   "cell_type": "markdown",
   "metadata": {},
   "source": [
    "#### To learn more about the generated notebooks\n",
    "\n",
    "* Click button `Open candidate generation notebook` to understand more detail on how the model candidates are being explored.\n",
    "* Click button `Open data exploration notebook` to understand more on how the training data statistics look liks."
   ]
  },
  {
   "cell_type": "markdown",
   "metadata": {},
   "source": [
    "#### To view `Best Model`\n",
    "\n",
    "`Best Model` is the one with the highest performance on the selected `Objective metric`. In our lab, it's the `F1` score.\n",
    "\n",
    "Please go ahead and right click your mouse on first row with `Best Model` and select `Describe in model details` menu. \n",
    "\n",
    "  ![To View Best Model](./image/ap_describe_best_model.png)\n",
    "  \n",
    "With that, the model details page will be shown, especially, for the `Best Model`, Autopilot provides reports for `Explainability` and `Performance` tabs. Please select them to understand more about model explainability and model performance.\n",
    "\n",
    "  ![To View Model Details](./image/ap_model_detail_explainability.png)"
   ]
  },
  {
   "cell_type": "markdown",
   "metadata": {},
   "source": [
    "### Test Deployed Model\n",
    "\n",
    "Note down the endpoint's name, which was provided in Autopilot experiment creation."
   ]
  },
  {
   "cell_type": "markdown",
   "metadata": {},
   "source": [
    "load the test data set to `Pandas` dataframe."
   ]
  },
  {
   "cell_type": "code",
   "execution_count": null,
   "metadata": {},
   "outputs": [],
   "source": [
    "import pandas as pd\n",
    "\n",
    "column_label = 'y'\n",
    "\n",
    "test_data = pd.read_csv(test_file_label)\n",
    "columns = test_data.columns.tolist()\n",
    "print(type(columns))\n",
    "columns.remove(column_label)\n",
    "columns.insert(0, column_label)\n",
    "\n",
    "# list the label as first column so that you can verify the prediction result easier\n",
    "test_data[columns]"
   ]
  },
  {
   "cell_type": "code",
   "execution_count": null,
   "metadata": {},
   "outputs": [],
   "source": [
    "X_test_numpy = test_data.drop([\"y\"], axis=1).values"
   ]
  },
  {
   "cell_type": "markdown",
   "metadata": {},
   "source": [
    "set the endpoint name, if you are using something different from `dm-autopilot-experiment`, please update the value below:"
   ]
  },
  {
   "cell_type": "code",
   "execution_count": null,
   "metadata": {},
   "outputs": [],
   "source": [
    "endpoint_name = 'dm-autopilot-experiment'"
   ]
  },
  {
   "cell_type": "code",
   "execution_count": null,
   "metadata": {},
   "outputs": [],
   "source": [
    "import boto3\n",
    "\n",
    "runtime = boto3.client('sagemaker-runtime')\n",
    "\n",
    "\n",
    "def predict(payload):\n",
    "    response = runtime.invoke_endpoint(EndpointName=endpoint_name,\n",
    "                                           ContentType='text/csv',\n",
    "                                           Body=payload)\n",
    "    print(response)\n",
    "    result = response['Body'].read().decode('utf-8').strip()\n",
    "    pred, pred_probability = result.split(',')\n",
    "    print(f\"Prediction result: {pred} with probability: {pred_probability}\")\n",
    "    return pred, pred_probability"
   ]
  },
  {
   "cell_type": "code",
   "execution_count": null,
   "metadata": {},
   "outputs": [],
   "source": [
    "# update the index to test on different row in the test dataset.\n",
    "index = 15\n",
    "\n",
    "label = test_data.iloc[index]['y']\n",
    "print(f\"Row index {index} with Label: {label}\")\n",
    "\n",
    "payload = ','.join(X_test_numpy[index].astype(str).tolist())\n",
    "predict(payload)"
   ]
  },
  {
   "cell_type": "markdown",
   "metadata": {},
   "source": [
    "### Cleanup\n",
    "\n",
    "It's generally a good practice to deactivate all endpoints which are not in use.\n",
    "\n",
    "Please uncomment the following lines and run the cell in order to deactivate the endpoint that were created before."
   ]
  },
  {
   "cell_type": "code",
   "execution_count": null,
   "metadata": {},
   "outputs": [],
   "source": [
    "# sm_client = boto3.client('sagemaker')\n",
    "# sm_client.delete_endpoint(EndpointName=endpoint_name)"
   ]
  },
  {
   "cell_type": "code",
   "execution_count": null,
   "metadata": {},
   "outputs": [],
   "source": []
  }
 ],
 "metadata": {
  "instance_type": "ml.t3.medium",
  "kernelspec": {
   "display_name": "Python 3 (Data Science)",
   "language": "python",
   "name": "python3__SAGEMAKER_INTERNAL__arn:aws:sagemaker:ap-southeast-2:452832661640:image/datascience-1.0"
  },
  "language_info": {
   "codemirror_mode": {
    "name": "ipython",
    "version": 3
   },
   "file_extension": ".py",
   "mimetype": "text/x-python",
   "name": "python",
   "nbconvert_exporter": "python",
   "pygments_lexer": "ipython3",
   "version": "3.7.10"
  }
 },
 "nbformat": 4,
 "nbformat_minor": 4
}
